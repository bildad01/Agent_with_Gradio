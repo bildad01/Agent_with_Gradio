{
  "nbformat": 4,
  "nbformat_minor": 0,
  "metadata": {
    "colab": {
      "provenance": []
    },
    "kernelspec": {
      "name": "python3",
      "display_name": "Python 3"
    },
    "language_info": {
      "name": "python"
    }
  },
  "cells": [
    {
      "cell_type": "code",
      "execution_count": null,
      "metadata": {
        "id": "gQFLqCzoq-qy"
      },
      "outputs": [],
      "source": [
        "def decide_next_step(state: InterviewState) -> InterviewState:\n",
        "    conversation = state.get(\"conversation\", [])\n",
        "    current_category = state.get(\"current_category\")\n",
        "\n",
        "    # 조건처리준비 1: 점수합계\n",
        "    score_map = {\"상\": 3, \"중\": 2, \"하\": 1}\n",
        "    total_score = sum(\n",
        "        score_map.get(turn.get(\"질문과의 관련성\"), 0) +\n",
        "        score_map.get(turn.get(\"답변의 구체성\"), 0) +\n",
        "        score_map.get(turn.get(\"자기이해도\"), 0) +\n",
        "        score_map.get(turn.get(\"두괄식 답변\"), 0)\n",
        "        for turn in state.get(\"evaluation\", [])\n",
        "    )\n",
        "\n",
        "    # 고도화 1: 모든 답변에 대해 답변의 적절성, 질문의 관련성 항목의 점수 합이 총점 96점 이상일 경우 면접을 종료한다.\n",
        "    if total_score >= 96:\n",
        "        next_step = \"end\"\n",
        "    # 고도화 2: 질문/답변의 횟수가 16회 이상일 경우 면접을 종료한다.\n",
        "    elif len(conversation) >= 16:\n",
        "        next_step = \"end\"\n",
        "    # 고도화 3: 동일 카테고리에 대한 질문이 2회 이상일 경우 다음 카테고리로 넘어간다.\n",
        "    else:\n",
        "        for key_ in state[\"question_strategy\"].keys():\n",
        "            if state[\"question_strategy\"][key_].get(\"질문회수\") < 2:\n",
        "                state[\"current_strategy\"] = key_\n",
        "                next_step = \"current_category\"\n",
        "                break\n",
        "\n",
        "            # 해당사항 없을 경우\n",
        "            else:\n",
        "              next_step = \"additional_question\"\n",
        "\n",
        "    return {\n",
        "        **state,\n",
        "        \"next_step\": next_step\n",
        "    }"
      ]
    }
  ]
}